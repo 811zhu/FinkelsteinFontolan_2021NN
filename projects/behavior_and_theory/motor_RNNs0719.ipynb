{
  "cells": [
    {
      "cell_type": "markdown",
      "metadata": {
        "id": "view-in-github",
        "colab_type": "text"
      },
      "source": [
        "<a href=\"https://colab.research.google.com/github/811zhu/FinkelsteinFontolan_2021NN/blob/main/projects/behavior_and_theory/motor_RNNs0719.ipynb\" target=\"_parent\"><img src=\"https://colab.research.google.com/assets/colab-badge.svg\" alt=\"Open In Colab\"/></a>"
      ]
    },
    {
      "cell_type": "markdown",
      "metadata": {
        "execution": {},
        "id": "vmwBwH9llh5K"
      },
      "source": [
        "# Motor RNNs\n",
        "\n",
        "contact: steeve.laquitaine@epfl.ch\n",
        "\n",
        "Heavily inspired from [Feulner & Clopath, 2021](https://journals.plos.org/ploscompbiol/article?id=10.1371/journal.pcbi.1008621)"
      ]
    },
    {
      "cell_type": "markdown",
      "metadata": {
        "execution": {},
        "id": "Pdoc1zsMlh5M"
      },
      "source": [
        "## Setup"
      ]
    },
    {
      "cell_type": "code",
      "execution_count": 1,
      "metadata": {
        "execution": {},
        "id": "ReKlGqjmlh5M"
      },
      "outputs": [],
      "source": [
        "# import python packages\n",
        "import os\n",
        "import numpy as np\n",
        "import sklearn.linear_model as lm\n",
        "import matplotlib.pyplot as plt\n",
        "from IPython import display"
      ]
    },
    {
      "cell_type": "code",
      "execution_count": 2,
      "metadata": {
        "execution": {},
        "id": "NhNVWczLlh5N"
      },
      "outputs": [],
      "source": [
        "# @title Set the project path\n",
        "proj_path = \"proj_rnn/\"\n",
        "if not os.path.exists(proj_path):\n",
        "  os.makedirs(proj_path)\n",
        "\n",
        "# set the directories where the results will be saved\n",
        "savedir = os.path.join(proj_path, 'data/fig2/')\n",
        "if not os.path.exists(savedir):\n",
        "  os.makedirs(savedir)"
      ]
    },
    {
      "cell_type": "markdown",
      "metadata": {
        "execution": {},
        "id": "3UozuLhrlh5O"
      },
      "source": [
        "## Utils"
      ]
    },
    {
      "cell_type": "markdown",
      "metadata": {
        "execution": {},
        "id": "8Y3QPxeMlh5P"
      },
      "source": [
        "### Network"
      ]
    },
    {
      "cell_type": "code",
      "execution_count": 3,
      "metadata": {
        "execution": {},
        "id": "Cv5alj0tlh5P"
      },
      "outputs": [],
      "source": [
        "# @title RNN encoder\n",
        "class RNN(object):\n",
        "    \"\"\"\n",
        "    Class implementing a recurrent network (not following Dale's law).\n",
        "\n",
        "    Parameters:\n",
        "    -----------\n",
        "    * N: number of neurons\n",
        "    * N_in: how many inputs can the network have\n",
        "    * N_out: how many neurons are recorded by external device\n",
        "    * g: recurrent coupling strength\n",
        "    * p: connection probability\n",
        "    * tau: neuron time constant\n",
        "    * dt: set dt for simulation\n",
        "    * delta: defines initial learning rate for FORCE\n",
        "    * P_plastic: how many neurons are plastic in the recurrent network\n",
        "    \"\"\"\n",
        "    def __init__(self, N=800, g=1.5, p=0.1, tau=0.1, dt=0.01,\n",
        "                 N_in=6):\n",
        "        # set parameters\n",
        "        self.N = N\n",
        "        self.g = g\n",
        "        self.p = p\n",
        "        self.K = int(p*N)\n",
        "        self.tau = tau\n",
        "        self.dt = dt\n",
        "\n",
        "        # create recurrent W\n",
        "        mask = np.random.rand(self.N,self.N)<self.p\n",
        "        np.fill_diagonal(mask,np.zeros(self.N))\n",
        "        self.mask = mask\n",
        "        self.W = self.g / np.sqrt(self.K) * np.random.randn(self.N,self.N) * mask\n",
        "\n",
        "        # create Win and Wout\n",
        "        self._N_in = N_in\n",
        "        self.W_in = (np.random.rand(self.N, self._N_in)-0.5)*2.\n",
        "\n",
        "    @property\n",
        "    def N_in(self):\n",
        "        return self._N_in\n",
        "\n",
        "    @N_in.setter\n",
        "    def N_in(self, value):\n",
        "        self._N_in = value\n",
        "        self.W_in = (np.random.rand(self.N, self._N_in)-0.5)*2.\n",
        "\n",
        "    def save(self,filename):\n",
        "        np.savez(\n",
        "            filename,\n",
        "            N = self.N,\n",
        "            K = self.K,\n",
        "            tau = self.tau,\n",
        "            g = self.g,\n",
        "            p = self.p,\n",
        "            dt = self.dt,\n",
        "            W_in = self.W_in,\n",
        "            W = self.W,\n",
        "            N_in = self._N_in,\n",
        "        )\n",
        "\n",
        "    def load(self,filename):\n",
        "        net = np.load(filename+'.npz')\n",
        "        self.N = int(net['N'])\n",
        "        self.dt = float(net['dt'])\n",
        "        self.K = int(net['K'])\n",
        "        self.tau = float(net['tau'])\n",
        "        self.g = float(net['g'])\n",
        "        self.p = float(net['p'])\n",
        "        self.W_in = net['W_in']\n",
        "        self.W = net['W']\n",
        "        self._N_in = int(net['N_in'])\n",
        "\n",
        "    def update_activation(self):\n",
        "        self.z = np.tanh(self.r)\n",
        "\n",
        "    def update_neurons(self,ext):\n",
        "        self.r = self.r + self.dt/self.tau * \\\n",
        "             (-self.r + np.dot(self.W, self.z) + np.dot(self.W_in,ext))\n",
        "\n",
        "        self.update_activation()\n",
        "\n",
        "    def simulate(self, T, ext=None, r0=None):\n",
        "\n",
        "        # define time\n",
        "        time = np.arange(0,T,self.dt)\n",
        "        tsteps = int(T/self.dt)\n",
        "\n",
        "        # create input in case no input is given\n",
        "        if ext is None:\n",
        "            ext = np.zeros((tsteps,self.N_in))\n",
        "\n",
        "        # check if input has the right shape\n",
        "        if ext.shape[0]!=tsteps or ext.shape[1]!=self.N_in:\n",
        "            print('ERROR: stimulus shape should be (time x number of input nodes)')\n",
        "            return\n",
        "\n",
        "        # set initial condition\n",
        "        if r0 is None:\n",
        "            self.r = (np.random.rand(self.N)-0.5)*2.\n",
        "        else:\n",
        "            self.r = r0\n",
        "        self.update_activation()\n",
        "\n",
        "        # start simulation\n",
        "        record_r = np.zeros((tsteps,self.N))\n",
        "        record_r[0,:] = self.r\n",
        "        for i in range(1,tsteps):\n",
        "            self.update_neurons(ext=ext[i])\n",
        "            # store activity\n",
        "            record_r[i,:] = self.r\n",
        "        return time, record_r, np.tanh(record_r)\n",
        "\n",
        "    def relearn(self, trials, ext, ntstart, decoder, feedback, target, delta=1.,\n",
        "                wplastic=None):\n",
        "        \"\"\"\n",
        "        Args\n",
        "          self.z: RNN network's activation\n",
        "          ext (np.array): stimuli (n_targets, n timesteps, n_targets)\n",
        "          decoder (np.array): (N units, 2d coordinates) decoder weights\n",
        "          feedback (np.array): (N units, 2d coordinates) feedback weights\n",
        "          target: (n_targets, N timesteps, 2d coordinates) target coordinates\n",
        "\n",
        "        Returns:\n",
        "\n",
        "          loss (np.array): loss by trial\n",
        "        \"\"\"\n",
        "        # get number of timesteps within trial\n",
        "        tsteps = ext.shape[1]\n",
        "\n",
        "        # set up learning\n",
        "        if wplastic is None:\n",
        "            self.W_plastic = [np.where(self.W[i,:]!=0)[0] for i in range(self.N)]\n",
        "        else:\n",
        "            self.W_plastic = wplastic\n",
        "        self.P = [1./delta*np.eye(len(self.W_plastic[i])) for i in range(len(self.W_plastic))]\n",
        "\n",
        "        # create n trials of target indices chosen from 0 to 5\n",
        "        order = np.random.choice(range(ext.shape[0]), trials, replace=True)\n",
        "\n",
        "        # initialize calculated loss per trial\n",
        "        record_loss = np.zeros(trials)\n",
        "\n",
        "        # loop over trials\n",
        "        for t in range(trials):\n",
        "\n",
        "            # initialize loss\n",
        "            loss = 0.\n",
        "            self.r = (np.random.rand(self.N)-0.5)*2.\n",
        "            self.update_activation()\n",
        "\n",
        "            # loop over time\n",
        "            for i in range(1,tsteps):\n",
        "\n",
        "                # update units\n",
        "                self.update_neurons(ext=ext[order[t],i])\n",
        "\n",
        "                # learn\n",
        "                if i > ntstart and i%2==0:\n",
        "\n",
        "                    # decode network's predicted\n",
        "                    # target coordinates\n",
        "                    c = decoder @ self.z\n",
        "\n",
        "                    # calculate prediction error between\n",
        "                    # decoded and true target coordinates (2,)\n",
        "                    errc = c - target[order[t], i]\n",
        "\n",
        "                    # calculate the error update assigned to each weight\n",
        "                    err1 = feedback @ errc\n",
        "\n",
        "                    # calculate loss\n",
        "                    loss += np.mean(err1**2)\n",
        "\n",
        "                    # update plastic recurrent weights\n",
        "                    for j in range(self.N):\n",
        "                        z_plastic = self.z[self.W_plastic[j]]\n",
        "                        pz = np.dot(self.P[j], z_plastic)\n",
        "                        norm = (1. + np.dot(z_plastic.T,  pz))\n",
        "                        self.P[j] -= np.outer(pz, pz)/norm\n",
        "\n",
        "                        # use error-transformed feedbacks to update\n",
        "                        # plastic weights\n",
        "                        self.W[j, self.W_plastic[j]] -= err1[j] * pz / norm\n",
        "\n",
        "            # tape loss\n",
        "            record_loss[t] = loss\n",
        "            print('Loss in Trial %d is %.5f'%(t+1,loss))\n",
        "        return record_loss\n",
        "\n",
        "    def calculate_manifold(self, trials, ext, ntstart):\n",
        "        tsteps = ext.shape[1]\n",
        "        T = self.dt*tsteps\n",
        "        points = (tsteps-ntstart)\n",
        "        activity = np.zeros((points*trials,self.N))\n",
        "        order = np.random.choice(range(ext.shape[0]),trials,replace=True)\n",
        "        for t in range(trials):\n",
        "            time, r, z = self.simulate(T,ext[order[t]])\n",
        "            activity[t*points:(t+1)*points,:] = z[ntstart:,:]\n",
        "        cov = np.cov(activity.T)\n",
        "        ev,evec = np.linalg.eig(cov)\n",
        "        pr = np.round(np.sum(ev.real)**2/np.sum(ev.real**2)).astype(int)\n",
        "        xi = activity @ evec.real\n",
        "        return activity,cov,ev.real,evec.real,pr,xi,order\n",
        "\n",
        "def save_RNN(network, savedir:str):\n",
        "  \"\"\"write RNN object and weights in savedir\n",
        "  \"\"\"\n",
        "  network.save(savedir+'network')\n",
        "  np.save(savedir+'W_initial', network.W)\n",
        "\n",
        "def save_RNN_sinewave(network, savedir:str):\n",
        "  \"\"\"write RNN sinewave object and weights in savedir\n",
        "  \"\"\"\n",
        "  network.save(savedir + 'network_sinewave')\n",
        "  np.save(savedir + 'W_initial_sinewave', network.W)"
      ]
    },
    {
      "cell_type": "code",
      "execution_count": 4,
      "metadata": {
        "execution": {},
        "id": "xDCpiDTZlh5R"
      },
      "outputs": [],
      "source": [
        "# @title BCI decoders\n",
        "def train_reaching_decoder(inputP, target, order, n_output_units:int=2):\n",
        "    \"\"\"train the decoder to perform the six-cue\n",
        "    motor reaching task\n",
        "    \"\"\"\n",
        "    # initialize predictor neural activity\n",
        "    X = np.zeros((inputP.shape[0]*inputP.shape[1], inputP.shape[-1]))\n",
        "\n",
        "    # initialize predicted target\n",
        "    Y = np.zeros((inputP.shape[0]*inputP.shape[1], n_output_units))\n",
        "\n",
        "    # fill up\n",
        "    for j in range(inputP.shape[0]):\n",
        "        X[j*inputP.shape[1]:(j+1)*inputP.shape[1],:] = inputP[j]\n",
        "        Y[j*inputP.shape[1]:(j+1)*inputP.shape[1],:] = target[order[j]]\n",
        "\n",
        "    # regress target against neural activity\n",
        "    reg = lm.LinearRegression()\n",
        "    reg.fit(X,Y)\n",
        "\n",
        "    # make predictions\n",
        "    y = reg.predict(X)\n",
        "    mse = np.mean((y-Y)**2)\n",
        "    return reg.coef_, mse\n",
        "\n",
        "def create_reaching_task_decoder(reaching_network, n_output_units:int=2):\n",
        "  \"\"\"create feedforward decoder from RNN to (x,y) output units\n",
        "  for learning (random weights)\"\"\"\n",
        "\n",
        "  # set parameters\n",
        "  SCALE = 0.04\n",
        "  DENOM = 0.2\n",
        "\n",
        "  # create random weights\n",
        "  reaching_decoder = np.random.randn(n_output_units, reaching_network.N)\n",
        "  initial_decoder_fac = SCALE * (target_max / DENOM)\n",
        "\n",
        "  # normalize decoder matrix\n",
        "  reaching_decoder *= (initial_decoder_fac / np.linalg.norm(reaching_decoder))\n",
        "  return reaching_decoder\n",
        "\n",
        "def train_force_exertion_decoder(inputP, target, order, n_output:int=1):\n",
        "    \"\"\"train the decoder to perform the force exertion\n",
        "    motor task. The network must apply force at\n",
        "    oscillating amplitude (following a sinewave function\n",
        "    of time)\n",
        "    \"\"\"\n",
        "\n",
        "    # initialize predictor neural activity\n",
        "    X = np.zeros((inputP.shape[0]*inputP.shape[1], inputP.shape[-1]))\n",
        "\n",
        "    # initialize predicted target\n",
        "    Y = np.zeros((inputP.shape[0]*inputP.shape[1], n_output))\n",
        "\n",
        "    # fill up\n",
        "    for j in range(inputP.shape[0]):\n",
        "        X[j*inputP.shape[1]:(j+1)*inputP.shape[1],:] = inputP[j]\n",
        "        Y[j*inputP.shape[1]:(j+1)*inputP.shape[1],:] = target[order[j]]\n",
        "\n",
        "    # regress target against neural activity\n",
        "    reg = lm.LinearRegression()\n",
        "    reg.fit(X, Y)\n",
        "\n",
        "    # make predictions\n",
        "    y = reg.predict(X)\n",
        "    mse = np.mean((y-Y)**2)\n",
        "    return reg.coef_, mse"
      ]
    },
    {
      "cell_type": "code",
      "execution_count": 5,
      "metadata": {
        "execution": {},
        "id": "F34Z8m_Klh5S"
      },
      "outputs": [],
      "source": [
        "# @title Feedback weights\n",
        "def get_feedback_weights(decoder):\n",
        "  \"\"\"calculate feedback weights from (x,y) output units back to RNN\n",
        "  as the matrix inverse of the feedforward decoder weights from the RNN to\n",
        "  the output units\"\"\"\n",
        "  return np.linalg.pinv(decoder)"
      ]
    },
    {
      "cell_type": "code",
      "execution_count": 6,
      "metadata": {
        "execution": {},
        "id": "-WmEVoYqlh5S"
      },
      "outputs": [],
      "source": [
        "# @title Loss function\n",
        "def get_cost(result, target, order):\n",
        "  cost = 0\n",
        "  for j in range(result.shape[0]):\n",
        "    error = result[j, :, :] - target[order[j], :, :]\n",
        "    cost += np.mean(error**2)\n",
        "  return cost"
      ]
    },
    {
      "cell_type": "code",
      "execution_count": 7,
      "metadata": {
        "execution": {},
        "id": "Qc0Skg2xlh5S"
      },
      "outputs": [],
      "source": [
        "# @title Get the manifold\n",
        "def get_manifold(network):\n",
        "\n",
        "  # calculate the manifold\n",
        "  activity, cov, ev, evec, pr, xi, order = network.calculate_manifold(trials=manifold_trials, ext=stimulus, ntstart=pulse_length)\n",
        "\n",
        "  # reshape the activity\n",
        "  activity_reshaped = activity.reshape(manifold_trials, -1, network.N)\n",
        "  xi2 = xi.reshape(manifold_trials, -1, network.N)\n",
        "  return {\"xi2\":xi2, \"order\":order, \"xi\":xi, \"cov\":cov, \"ev\":ev, \"evec\":evec, \"pr\":pr,\"activity\":activity, \"activity_reshaped\":activity_reshaped}\n",
        "\n",
        "def save_reaching_manifold(data, T):\n",
        "  dic = {'manifold': {'original': data['manifold']}, 'perturbations': {'transformed':T}}\n",
        "  np.save(savedir + 'reaching_relearning_results', dic)\n",
        "\n",
        "def transform_reaching(reaching_network, manifold_out, W_bci4, n_output_units:int=2):\n",
        "\n",
        "  P = manifold_out[\"evec\"].real.T\n",
        "  D = np.zeros((2, reaching_network.N))\n",
        "  D[:,:reduced_dim] = W_bci4\n",
        "  transformed = D @ P\n",
        "  result = manifold_out[\"activity_reshaped\"] @ transformed.T\n",
        "  cost = get_cost(result, target[:,pulse_length:,:], manifold_out[\"order\"])\n",
        "  return transformed"
      ]
    },
    {
      "cell_type": "code",
      "execution_count": 8,
      "metadata": {
        "execution": {},
        "id": "Rid70eeAlh5T"
      },
      "outputs": [],
      "source": [
        "# @title simulation\n",
        "def simulate_reaching(savdir, dt):\n",
        "\n",
        "  # set plot parameters\n",
        "  COL_ORIG = 'k'\n",
        "  ALPHA = 1\n",
        "\n",
        "  # load velocity data\n",
        "  data = np.load(savdir + 'reaching_relearning_results.npy', allow_pickle=True).item()\n",
        "  activity = data['manifold']['original']['activity2']\n",
        "  o_original = activity @ data['perturbations']['transformed'].T\n",
        "\n",
        "  # reconstruct trajectories from velocities\n",
        "  pos_original = np.zeros(o_original.shape)\n",
        "  for j in range(activity.shape[1]):\n",
        "      pos_original[:,j,:] = pos_original[:,j-1,:] + o_original[:,j,:]*dt\n",
        "\n",
        "  # plot trajectories\n",
        "  plt.figure(figsize=(15,10), dpi=96)\n",
        "  plt.subplot(2,3,3)\n",
        "  for j in range(manifold_trials):\n",
        "      plt.plot(pos_original[j,:,0], pos_original[j,:,1], COL_ORIG, alpha=ALPHA);\n",
        "  plt.title('simulated reaching');\n",
        "  plt.xlabel('x-position on screen');\n",
        "  plt.ylabel('y-position on screen');"
      ]
    },
    {
      "cell_type": "markdown",
      "metadata": {
        "execution": {},
        "id": "gJafzB5plh5U"
      },
      "source": [
        "### Task"
      ]
    },
    {
      "cell_type": "code",
      "execution_count": 9,
      "metadata": {
        "execution": {},
        "id": "PArEMquAlh5U"
      },
      "outputs": [],
      "source": [
        "# @title \"reaching\" task\n",
        "def create_reaching_task_stimuli(tsteps:int, pulse_steps:int, n_targets:int=6, amplitude:float=1., twod:bool=False):\n",
        "    \"\"\"create the set of stimuli, which we sample from at each trial\n",
        "\n",
        "    Args:\n",
        "      tsteps (int):\n",
        "      pulse_steps (int):\n",
        "      n_targets (int):\n",
        "      amplitude (float):\n",
        "      twod (bool):\n",
        "\n",
        "    Returns:\n",
        "      (np.array): array of (n_targets, pulse_steps, n_targets) stimuli\n",
        "    \"\"\"\n",
        "\n",
        "    # create stimulus\n",
        "    stimulus = np.zeros((n_targets, tsteps, n_targets))\n",
        "    if twod:\n",
        "        phis = np.linspace(0,2*np.pi,targets,endpoint=False)\n",
        "        for j in range(stimulus.shape[0]):\n",
        "            stimulus[j,:pulse_length,0] = amplitude*np.cos(phis[j])\n",
        "            stimulus[j,:pulse_length,1] = amplitude*np.sin(phis[j])\n",
        "            stimulus[j,:pulse_length,2:] = 0\n",
        "    else:\n",
        "        for j in range(n_targets):\n",
        "            stimulus[j,:pulse_steps,j] = amplitude\n",
        "    return stimulus\n",
        "\n",
        "def create_reaching_task_targets(tsteps, pulse_steps, n_targets:int=6, stype='constant', target_max:float=0.2):\n",
        "    \"\"\"create the set of target coordinates (6 by default) that the network\n",
        "    must reach before the end of a trial. The network starts from the center of\n",
        "    the computer screen (coordinate: (0,0))\n",
        "    \"\"\"\n",
        "    # create target trajectories\n",
        "    phis = np.linspace(0, 2*np.pi, n_targets, endpoint=False)\n",
        "    rs = np.zeros(tsteps)\n",
        "\n",
        "    # define each target's x and y coordinate\n",
        "    rs[pulse_steps:] = np.ones(tsteps-pulse_steps)*target_max\n",
        "    traj = np.zeros((n_targets,tsteps,2))\n",
        "    for j in range(n_targets):\n",
        "\n",
        "        # create x-coordinate on screen\n",
        "        traj[j,:,0] = rs*np.cos(phis[j])\n",
        "\n",
        "        # create y-coordinate on screen\n",
        "        traj[j,:,1] = rs*np.sin(phis[j])\n",
        "    return traj\n",
        "\n",
        "def plot_reaching_task_stimuli(stimulus, n_targets:int, tsteps:int, T:int):\n",
        "\n",
        "  # plot target cue with \"pulse_steps\" duration\n",
        "  # at the beginning of each trial\n",
        "  stimulus_set = np.arange(0, n_targets,1)\n",
        "\n",
        "  fig, axes = plt.subplots(n_targets, 1, figsize=(30,9))\n",
        "\n",
        "  for target in stimulus_set:\n",
        "    axes[target].imshow(stimulus[target,:,:].T, aspect=10, cmap=\"binary\");\n",
        "\n",
        "    # legend\n",
        "    axes[target].set_yticks(stimulus_set)\n",
        "    axes[target].set_yticklabels(stimulus_set, fontsize=9)\n",
        "    axes[target].set_xticks([0, tsteps])\n",
        "    axes[target].set_xticklabels([0, T])\n",
        "    axes[target].set_ylabel(\"possible targets\", fontsize=9)\n",
        "\n",
        "  axes[-1].set_xlabel(\"time within a trial (secs)\")\n",
        "\n",
        "  fig.tight_layout()\n",
        "\n",
        "  print(\"stimuli:\")\n",
        "  print(f\"-a set of {stimulus.shape[0]} possible trial stimuli (panels)\")\n",
        "  print(f\"-{stimulus.shape[1]} timesteps within a trial stimulus\")\n",
        "  print(f\"-{stimulus.shape[2]} possible cued target in a trial stimulus\")\n",
        "\n",
        "def plot_reaching_task_targets(target, tsteps:int, T:int):\n",
        "\n",
        "  # count targets\n",
        "  n_targets = target.shape[0]\n",
        "\n",
        "  # plot target coordinates throughout trial\n",
        "  fig, axes = plt.subplots(n_targets,1, figsize=(6,6))\n",
        "  for target_i in tuple(range(n_targets)):\n",
        "    axes[target_i].plot(target[target_i,:,:])\n",
        "\n",
        "    # legend\n",
        "    axes[target_i].set_xticks([0, tsteps])\n",
        "    axes[target_i].set_xticklabels([0, T])\n",
        "    axes[target_i].set_ylabel(\"target\" \"\\n\" \"coord (a.u.)\", fontsize=9)\n",
        "    axes[target_i].set_ylim([target.min()-0.01, target.max()+0.01])\n",
        "\n",
        "  axes[-1].set_xlabel(\"time within a trial (secs)\")\n",
        "  plt.legend([\"x-coord\", \"y-coord\"], fontsize=9, frameon=False)\n",
        "  fig.tight_layout()"
      ]
    },
    {
      "cell_type": "code",
      "execution_count": 10,
      "metadata": {
        "cellView": "form",
        "execution": {},
        "id": "ghJGCb89lh5V"
      },
      "outputs": [],
      "source": [
        "# @title \"force\" task\n",
        "def create_force_task_stimuli(tsteps:int, pulse_steps:int, n_targets:int=1, amplitude:float=1., twod:bool=False):\n",
        "    \"\"\"create a stimulus set\n",
        "\n",
        "    Args:\n",
        "      tsteps (int):\n",
        "      pulse_steps (int):\n",
        "      n_targets (int):\n",
        "      amplitude (float)\n",
        "      twod (bool):\n",
        "\n",
        "    Returns:\n",
        "      (np.array): array of (n_targets, pulse_steps, n_targets) stimuli\n",
        "    \"\"\"\n",
        "\n",
        "    # create stimuli\n",
        "    stimulus = np.zeros((n_targets, tsteps, n_targets))\n",
        "    for j in range(n_targets):\n",
        "        stimulus[j,:pulse_steps,j] = amplitude\n",
        "    return stimulus\n",
        "\n",
        "def plot_force_stimuli(stimulus, n_targets:int, tsteps:int, T:int):\n",
        "\n",
        "  # plot target cue with \"pulse_steps\" duration\n",
        "  # at the beginning of each trial\n",
        "  stimulus_set = np.arange(0, n_targets, 1)\n",
        "  fig, axes = plt.subplots(n_targets, 1, figsize=(30,9))\n",
        "  for target in stimulus_set:\n",
        "\n",
        "    # plot\n",
        "    axes[target].imshow(stimulus[target,:,:].T, aspect=10, cmap=\"binary\");\n",
        "\n",
        "    # legend\n",
        "    axes[target].set_yticks(stimulus_set)\n",
        "    axes[target].set_yticklabels(stimulus_set, fontsize=9)\n",
        "    axes[target].set_xticks([0, tsteps])\n",
        "    axes[target].set_xticklabels([0, T])\n",
        "    axes[target].set_ylabel(\"possible targets\", fontsize=9)\n",
        "  axes[-1].set_xlabel(\"time within a trial (secs)\")\n",
        "  fig.tight_layout()\n",
        "  print(\"stimuli:\")\n",
        "  print(f\"-a set of {stimulus.shape[0]} possible trial stimuli (panels)\")\n",
        "  print(f\"-{stimulus.shape[1]} timesteps within a trial stimulus\")\n",
        "  print(f\"-{stimulus.shape[2]} possible cued target in a trial stimulus\")\n",
        "\n",
        "def create_force_task_targets(tsteps, pulse_steps, targets:list=[1, 10], target_max:float=0.2):\n",
        "  \"\"\"exert force with an oscillatorily increasing and decreasing amplitude\n",
        "  \"\"\"\n",
        "  n_targets = len(targets)\n",
        "  rs = np.zeros(tsteps)\n",
        "  traj = np.zeros((n_targets, tsteps, 1))\n",
        "  rs[pulse_steps:] = np.ones(tsteps - pulse_steps) * target_max\n",
        "  x_coord = np.linspace(-2*np.pi, 2*np.pi, tsteps, endpoint=False)\n",
        "  freq = []\n",
        "  for ix in range(n_targets):\n",
        "    traj[ix,:,0] = rs * np.sin(targets[ix] * x_coord)\n",
        "  return traj\n",
        "\n",
        "def plot_force_task_targets(target, tsteps:int, T:int):\n",
        "\n",
        "  # count targets\n",
        "  n_targets = target.shape[0]\n",
        "\n",
        "  # plot target coordinates throughout trial\n",
        "  fig, axes = plt.subplots(n_targets,1, figsize=(6,6));\n",
        "  for target_i in tuple(range(n_targets)):\n",
        "\n",
        "    # plot\n",
        "    axes[target_i].plot(target[target_i,:,:]);\n",
        "\n",
        "    # legend\n",
        "    axes[target_i].set_xticks([0, tsteps]);\n",
        "    axes[target_i].set_xticklabels([0, T]);\n",
        "    axes[target_i].set_ylabel(\"target\" \"\\n\" \"coord (a.u.)\", fontsize=9);\n",
        "    axes[target_i].set_ylim([target.min()-0.01, target.max()+0.01]);\n",
        "  axes[-1].set_xlabel(\"time within a trial (secs)\");\n",
        "  plt.legend([\"x-coord\", \"y-coord\"], fontsize=9, frameon=False);\n",
        "  fig.tight_layout();"
      ]
    },
    {
      "cell_type": "markdown",
      "metadata": {
        "execution": {},
        "id": "i8OA3LQglh5V"
      },
      "source": [
        "## Create task 1: \"reaching\""
      ]
    },
    {
      "cell_type": "code",
      "execution_count": null,
      "metadata": {
        "execution": {},
        "id": "gZIiaF6Mlh5V"
      },
      "outputs": [],
      "source": [
        "# @title set parameters\n",
        "# TODO: create dictionary\n",
        "\n",
        "seed_id = 2                 # random seed for this simulation\n",
        "np.random.seed(seed_id)\n",
        "\n",
        "# time parameters\n",
        "dt = 0.01                   # time discretization (secs, see paper table 1)\n",
        "T = 2                       # trial duration (secs, see paper table 1)\n",
        "time = np.arange(0, T, dt)\n",
        "tsteps = len(time)          # number of time steps within a trial\n",
        "pulse_length = int(0.2/dt)  # pulse length in number of timesteps\n",
        "\n",
        "# network parameters\n",
        "N = 800                     # RNN number of units\n",
        "g = 1.5                     # RNN recurrent connection strengths (a.u)\n",
        "p = 0.1                     # RNN connection probability\n",
        "tau = 0.1                   # unit time constant tau (secs)\n",
        "N_OUTPUT_UNITS = 2          # number of output units (2 for x and y)\n",
        "\n",
        "# task parameters\n",
        "targets = 6                 # number of reaching targets\n",
        "stimulus_type = 'constant'  # constant, linear, normal\n",
        "target_max = 0.2            # 0.2 or 0.01\n",
        "n_learning1_trials = 80       # initial network learning\n",
        "delta = 20.\n",
        "relearning_trials = 80      # relearning\n",
        "deltarec = 20.\n",
        "\n",
        "# analyses parameters\n",
        "manifold_trials = 50        # manifold calculation\n",
        "reduced_dim = 10"
      ]
    },
    {
      "cell_type": "code",
      "execution_count": null,
      "metadata": {
        "execution": {},
        "id": "yXkdVqBzlh5V",
        "outputId": "bc8cc74e-6f60-48d9-cae2-937fca98d988"
      },
      "outputs": [
        {
          "name": "stdout",
          "output_type": "stream",
          "text": [
            "stimuli:\n",
            "-a set of 6 possible trial stimuli (panels)\n",
            "-200 timesteps within a trial stimulus\n",
            "-6 possible cued target in a trial stimulus\n"
          ]
        },
        {
          "data": {
            "image/png": "[encoded data removed]",
            "text/plain": [
              "<Figure size 3000x900 with 6 Axes>"
            ]
          },
          "metadata": {},
          "output_type": "display_data"
        },
        {
          "data": {
            "image/png": "[encoded data removed]",
            "text/plain": [
              "<Figure size 600x600 with 6 Axes>"
            ]
          },
          "metadata": {},
          "output_type": "display_data"
        }
      ],
      "source": [
        "# @title Create stimuli and targets\n",
        "\n",
        "# create stimuli and plot\n",
        "stimulus = create_reaching_task_stimuli(tsteps, pulse_length, twod=False)\n",
        "plot_reaching_task_stimuli(stimulus, targets, tsteps, T)\n",
        "\n",
        "# create target (targets x timesteps x 2D coordinates) and plot\n",
        "target = create_reaching_task_targets(\n",
        "    tsteps,\n",
        "    pulse_length,\n",
        "    n_targets=targets,\n",
        "    stype=stimulus_type,\n",
        "    target_max=target_max\n",
        "    )\n",
        "plot_reaching_task_targets(target, tsteps, T)"
      ]
    },
    {
      "cell_type": "code",
      "execution_count": null,
      "metadata": {
        "cellView": "form",
        "execution": {},
        "id": "pdwPr_GNlh5W",
        "outputId": "6481f194-53e9-44b9-b426-531f6011875e"
      },
      "outputs": [
        {
          "name": "stdout",
          "output_type": "stream",
          "text": [
            "Loss in Trial 1 is 0.36486\n"
          ]
        },
        {
          "name": "stdout",
          "output_type": "stream",
          "text": [
            "Loss in Trial 2 is 0.53443\n"
          ]
        },
        {
          "name": "stdout",
          "output_type": "stream",
          "text": [
            "Loss in Trial 3 is 0.07616\n"
          ]
        },
        {
          "name": "stdout",
          "output_type": "stream",
          "text": [
            "Loss in Trial 4 is 0.32136\n"
          ]
        },
        {
          "name": "stdout",
          "output_type": "stream",
          "text": [
            "Loss in Trial 5 is 0.40796\n"
          ]
        },
        {
          "name": "stdout",
          "output_type": "stream",
          "text": [
            "Loss in Trial 6 is 0.52334\n"
          ]
        },
        {
          "name": "stdout",
          "output_type": "stream",
          "text": [
            "Loss in Trial 7 is 0.12490\n"
          ]
        },
        {
          "name": "stdout",
          "output_type": "stream",
          "text": [
            "Loss in Trial 8 is 0.16206\n"
          ]
        },
        {
          "name": "stdout",
          "output_type": "stream",
          "text": [
            "Loss in Trial 9 is 0.05343\n"
          ]
        },
        {
          "name": "stdout",
          "output_type": "stream",
          "text": [
            "Loss in Trial 10 is 0.30051\n"
          ]
        },
        {
          "name": "stdout",
          "output_type": "stream",
          "text": [
            "Loss in Trial 11 is 0.64470\n"
          ]
        },
        {
          "name": "stdout",
          "output_type": "stream",
          "text": [
            "Loss in Trial 12 is 0.10505\n"
          ]
        },
        {
          "name": "stdout",
          "output_type": "stream",
          "text": [
            "Loss in Trial 13 is 0.42285\n"
          ]
        },
        {
          "name": "stdout",
          "output_type": "stream",
          "text": [
            "Loss in Trial 14 is 0.18380\n"
          ]
        },
        {
          "name": "stdout",
          "output_type": "stream",
          "text": [
            "Loss in Trial 15 is 0.14192\n"
          ]
        },
        {
          "name": "stdout",
          "output_type": "stream",
          "text": [
            "Loss in Trial 16 is 0.12791\n"
          ]
        },
        {
          "name": "stdout",
          "output_type": "stream",
          "text": [
            "Loss in Trial 17 is 0.47923\n"
          ]
        },
        {
          "name": "stdout",
          "output_type": "stream",
          "text": [
            "Loss in Trial 18 is 0.11559\n"
          ]
        },
        {
          "name": "stdout",
          "output_type": "stream",
          "text": [
            "Loss in Trial 19 is 0.35033\n"
          ]
        },
        {
          "name": "stdout",
          "output_type": "stream",
          "text": [
            "Loss in Trial 20 is 0.08278\n"
          ]
        },
        {
          "name": "stdout",
          "output_type": "stream",
          "text": [
            "Loss in Trial 21 is 0.06807\n"
          ]
        },
        {
          "name": "stdout",
          "output_type": "stream",
          "text": [
            "Loss in Trial 22 is 0.06301\n"
          ]
        },
        {
          "name": "stdout",
          "output_type": "stream",
          "text": [
            "Loss in Trial 23 is 0.09566\n"
          ]
        },
        {
          "name": "stdout",
          "output_type": "stream",
          "text": [
            "Loss in Trial 24 is 0.12736\n"
          ]
        },
        {
          "name": "stdout",
          "output_type": "stream",
          "text": [
            "Loss in Trial 25 is 0.23735\n"
          ]
        },
        {
          "name": "stdout",
          "output_type": "stream",
          "text": [
            "Loss in Trial 26 is 0.23559\n"
          ]
        },
        {
          "name": "stdout",
          "output_type": "stream",
          "text": [
            "Loss in Trial 27 is 0.17402\n"
          ]
        },
        {
          "name": "stdout",
          "output_type": "stream",
          "text": [
            "Loss in Trial 28 is 0.08763\n"
          ]
        },
        {
          "name": "stdout",
          "output_type": "stream",
          "text": [
            "Loss in Trial 29 is 0.17927\n"
          ]
        },
        {
          "name": "stdout",
          "output_type": "stream",
          "text": [
            "Loss in Trial 30 is 0.14406\n"
          ]
        },
        {
          "name": "stdout",
          "output_type": "stream",
          "text": [
            "Loss in Trial 31 is 0.08725\n"
          ]
        },
        {
          "name": "stdout",
          "output_type": "stream",
          "text": [
            "Loss in Trial 32 is 0.06780\n"
          ]
        },
        {
          "name": "stdout",
          "output_type": "stream",
          "text": [
            "Loss in Trial 33 is 0.12969\n"
          ]
        },
        {
          "name": "stdout",
          "output_type": "stream",
          "text": [
            "Loss in Trial 34 is 0.29347\n"
          ]
        },
        {
          "name": "stdout",
          "output_type": "stream",
          "text": [
            "Loss in Trial 35 is 0.06320\n"
          ]
        },
        {
          "name": "stdout",
          "output_type": "stream",
          "text": [
            "Loss in Trial 36 is 0.04275\n"
          ]
        },
        {
          "name": "stdout",
          "output_type": "stream",
          "text": [
            "Loss in Trial 37 is 0.05319\n"
          ]
        },
        {
          "name": "stdout",
          "output_type": "stream",
          "text": [
            "Loss in Trial 38 is 0.19063\n"
          ]
        },
        {
          "name": "stdout",
          "output_type": "stream",
          "text": [
            "Loss in Trial 39 is 0.18882\n"
          ]
        },
        {
          "name": "stdout",
          "output_type": "stream",
          "text": [
            "Loss in Trial 40 is 0.07958\n"
          ]
        },
        {
          "name": "stdout",
          "output_type": "stream",
          "text": [
            "Loss in Trial 41 is 0.10850\n"
          ]
        },
        {
          "name": "stdout",
          "output_type": "stream",
          "text": [
            "Loss in Trial 42 is 0.11297\n"
          ]
        },
        {
          "name": "stdout",
          "output_type": "stream",
          "text": [
            "Loss in Trial 43 is 0.18255\n"
          ]
        },
        {
          "name": "stdout",
          "output_type": "stream",
          "text": [
            "Loss in Trial 44 is 0.11546\n"
          ]
        },
        {
          "name": "stdout",
          "output_type": "stream",
          "text": [
            "Loss in Trial 45 is 0.07390\n"
          ]
        },
        {
          "name": "stdout",
          "output_type": "stream",
          "text": [
            "Loss in Trial 46 is 0.03333\n"
          ]
        },
        {
          "name": "stdout",
          "output_type": "stream",
          "text": [
            "Loss in Trial 47 is 0.38535\n"
          ]
        },
        {
          "name": "stdout",
          "output_type": "stream",
          "text": [
            "Loss in Trial 48 is 0.06997\n"
          ]
        },
        {
          "name": "stdout",
          "output_type": "stream",
          "text": [
            "Loss in Trial 49 is 0.07892\n"
          ]
        },
        {
          "name": "stdout",
          "output_type": "stream",
          "text": [
            "Loss in Trial 50 is 0.14193\n"
          ]
        },
        {
          "name": "stdout",
          "output_type": "stream",
          "text": [
            "Loss in Trial 51 is 0.07994\n"
          ]
        },
        {
          "name": "stdout",
          "output_type": "stream",
          "text": [
            "Loss in Trial 52 is 0.06952\n"
          ]
        },
        {
          "name": "stdout",
          "output_type": "stream",
          "text": [
            "Loss in Trial 53 is 0.10900\n"
          ]
        },
        {
          "name": "stdout",
          "output_type": "stream",
          "text": [
            "Loss in Trial 54 is 0.09297\n"
          ]
        },
        {
          "name": "stdout",
          "output_type": "stream",
          "text": [
            "Loss in Trial 55 is 0.10353\n"
          ]
        },
        {
          "name": "stdout",
          "output_type": "stream",
          "text": [
            "Loss in Trial 56 is 0.15564\n"
          ]
        },
        {
          "name": "stdout",
          "output_type": "stream",
          "text": [
            "Loss in Trial 57 is 0.10690\n"
          ]
        },
        {
          "name": "stdout",
          "output_type": "stream",
          "text": [
            "Loss in Trial 58 is 0.15024\n"
          ]
        },
        {
          "name": "stdout",
          "output_type": "stream",
          "text": [
            "Loss in Trial 59 is 0.10538\n"
          ]
        },
        {
          "name": "stdout",
          "output_type": "stream",
          "text": [
            "Loss in Trial 60 is 0.05267\n"
          ]
        },
        {
          "name": "stdout",
          "output_type": "stream",
          "text": [
            "Loss in Trial 61 is 0.05397\n"
          ]
        },
        {
          "name": "stdout",
          "output_type": "stream",
          "text": [
            "Loss in Trial 62 is 0.29171\n"
          ]
        },
        {
          "name": "stdout",
          "output_type": "stream",
          "text": [
            "Loss in Trial 63 is 0.01542\n"
          ]
        },
        {
          "name": "stdout",
          "output_type": "stream",
          "text": [
            "Loss in Trial 64 is 0.13387\n"
          ]
        },
        {
          "name": "stdout",
          "output_type": "stream",
          "text": [
            "Loss in Trial 65 is 0.05894\n"
          ]
        },
        {
          "name": "stdout",
          "output_type": "stream",
          "text": [
            "Loss in Trial 66 is 0.02853\n"
          ]
        },
        {
          "name": "stdout",
          "output_type": "stream",
          "text": [
            "Loss in Trial 67 is 0.07265\n"
          ]
        },
        {
          "name": "stdout",
          "output_type": "stream",
          "text": [
            "Loss in Trial 68 is 0.16341\n"
          ]
        },
        {
          "name": "stdout",
          "output_type": "stream",
          "text": [
            "Loss in Trial 69 is 0.18491\n"
          ]
        },
        {
          "name": "stdout",
          "output_type": "stream",
          "text": [
            "Loss in Trial 70 is 0.06880\n"
          ]
        },
        {
          "name": "stdout",
          "output_type": "stream",
          "text": [
            "Loss in Trial 71 is 0.15995\n"
          ]
        },
        {
          "name": "stdout",
          "output_type": "stream",
          "text": [
            "Loss in Trial 72 is 0.04211\n"
          ]
        },
        {
          "name": "stdout",
          "output_type": "stream",
          "text": [
            "Loss in Trial 73 is 0.13112\n"
          ]
        },
        {
          "name": "stdout",
          "output_type": "stream",
          "text": [
            "Loss in Trial 74 is 0.28417\n"
          ]
        },
        {
          "name": "stdout",
          "output_type": "stream",
          "text": [
            "Loss in Trial 75 is 0.06657\n"
          ]
        },
        {
          "name": "stdout",
          "output_type": "stream",
          "text": [
            "Loss in Trial 76 is 0.10395\n"
          ]
        },
        {
          "name": "stdout",
          "output_type": "stream",
          "text": [
            "Loss in Trial 77 is 0.17352\n"
          ]
        },
        {
          "name": "stdout",
          "output_type": "stream",
          "text": [
            "Loss in Trial 78 is 0.08851\n"
          ]
        },
        {
          "name": "stdout",
          "output_type": "stream",
          "text": [
            "Loss in Trial 79 is 0.05736\n"
          ]
        },
        {
          "name": "stdout",
          "output_type": "stream",
          "text": [
            "Loss in Trial 80 is 0.09944\n"
          ]
        }
      ],
      "source": [
        "# @title build and train the network\n",
        "# create and save RNN encoder\n",
        "reaching_network = RNN(N=N, g=g, p=p, tau=tau, dt=dt, N_in=targets)\n",
        "save_RNN(reaching_network, savedir)\n",
        "\n",
        "# create feedforward decoder from RNN to (x,y) output units\n",
        "reaching_decoder = create_reaching_task_decoder(reaching_network,\n",
        "                                                n_output_units=N_OUTPUT_UNITS)\n",
        "\n",
        "# create feedback weights from (x,y) output units back to RNN\n",
        "reaching_feedback = get_feedback_weights(reaching_decoder)\n",
        "\n",
        "# train and save the RNN encoder weights (learn the task)\n",
        "reaching_loss = reaching_network.relearn(n_learning1_trials, stimulus,\n",
        "                                         pulse_length, reaching_decoder,\n",
        "                                         reaching_feedback, target, delta=delta)\n",
        "np.save(f'{savedir}W_stabilized_reaching', reaching_network.W)\n",
        "w1_reaching = reaching_network.W.copy()\n",
        "\n",
        "# get the RNN's manifold\n",
        "manifold_out = get_manifold(reaching_network)\n",
        "\n",
        "# train the decoder\n",
        "W_bci4, l4 = train_reaching_decoder(manifold_out[\"xi2\"][:, :, :reduced_dim],\n",
        "                                    target[:, pulse_length:, :],\n",
        "                                    manifold_out[\"order\"],\n",
        "                                    n_output_units=N_OUTPUT_UNITS)\n",
        "\n",
        "# transform\n",
        "transformed = transform_reaching(reaching_network, manifold_out,\n",
        "                                 W_bci4, n_output_units=N_OUTPUT_UNITS)"
      ]
    },
    {
      "cell_type": "code",
      "execution_count": null,
      "metadata": {
        "cellView": "form",
        "execution": {},
        "id": "Sx90gd7olh5W"
      },
      "outputs": [],
      "source": [
        "# @title Save run data\n",
        "# format and save data for this run\n",
        "run_data = {\n",
        "    'params':{\n",
        "        'dt':dt,\n",
        "        'T':T,\n",
        "        'time':time,\n",
        "        'tsteps':tsteps,\n",
        "        'pulse_length':pulse_length,\n",
        "        'manifold_trials':manifold_trials,\n",
        "        'target_max':target_max,\n",
        "        'stimulus_type':stimulus_type,\n",
        "        'N':N,\n",
        "        'tau':tau,\n",
        "        'g':g,\n",
        "        'p':p\n",
        "        },\n",
        "    'stimulus':stimulus,\n",
        "    'target':target,\n",
        "    'stabilizing':{\n",
        "        'learning_trials':n_learning1_trials,\n",
        "        'delta':delta,\n",
        "        'decoder':reaching_decoder,\n",
        "        'feedback':reaching_feedback,\n",
        "        'stabilize_loss':reaching_loss\n",
        "        },\n",
        "    'manifold':{\n",
        "        'activity':manifold_out[\"activity\"],\n",
        "        'activity2':manifold_out[\"activity_reshaped\"],\n",
        "        'xi':manifold_out[\"xi\"],\n",
        "        'xi2':manifold_out[\"xi2\"],\n",
        "        'cov':manifold_out[\"cov\"],\n",
        "        'ev':manifold_out[\"ev\"],\n",
        "        'evec':manifold_out[\"evec\"],\n",
        "        'pr':manifold_out[\"pr\"],\n",
        "        'order': manifold_out[\"order\"]\n",
        "        },\n",
        "    'decoding':{\n",
        "        'reduced_dim': reduced_dim,\n",
        "        'weights': W_bci4,\n",
        "        'loss':l4\n",
        "        }\n",
        "        }\n",
        "np.save(f'{savedir}reaching_experiment_results', run_data)\n",
        "\n",
        "# save manifold data separately\n",
        "save_reaching_manifold(run_data, transformed)"
      ]
    },
    {
      "cell_type": "markdown",
      "metadata": {
        "execution": {},
        "id": "F40GxkPzlh5W"
      },
      "source": [
        "### simulate reaching"
      ]
    },
    {
      "cell_type": "code",
      "execution_count": null,
      "metadata": {
        "execution": {},
        "id": "b03_Pu3alh5X",
        "outputId": "28377c91-ad88-433f-dec9-71c1dd2a1887"
      },
      "outputs": [
        {
          "data": {
            "image/png": "[encoded data removed]",
            "text/plain": [
              "<Figure size 1440x960 with 1 Axes>"
            ]
          },
          "metadata": {},
          "output_type": "display_data"
        }
      ],
      "source": [
        "# simulate reaching\n",
        "trajectories = simulate_reaching(savedir, dt)"
      ]
    },
    {
      "cell_type": "markdown",
      "metadata": {
        "execution": {},
        "id": "OVYJCsuzlh5X"
      },
      "source": [
        "## Create task 2: \"force\"\n",
        "\n",
        "Don't hesitate to use some of the utils functions that have been implemented for this tasks under the \"force\" task section.\n",
        "\n",
        "Can you think of other tasks to test?"
      ]
    },
    {
      "cell_type": "code",
      "source": [
        "import numpy as np\n",
        "import matplotlib.pyplot as plt\n",
        "from sklearn import linear_model as lm\n",
        "\n",
        "# (已包含在前面的代码中，这里不再重复)\n",
        "# @title RNN encoder\n",
        "# @title BCI decoders\n",
        "# @title Feedback weights\n",
        "# @title Loss function\n",
        "# @title Get the manifold\n",
        "# @title simulation\n",
        "# --- 2. 任务和训练流程 ---\n",
        "\n",
        "def generate_force_task(T, dt, n_targets=1, frequency=1.0, amplitude=1.0):\n",
        "    \"\"\"\n",
        "    生成1D力量任务的目标信号 (Target) 和外部输入 (Ext).\n",
        "    目标信号为正弦波。\n",
        "    \"\"\"\n",
        "    tsteps = int(T / dt)\n",
        "    time_points = np.arange(0, T, dt)\n",
        "\n",
        "    # 1D 目标信号: 正弦波\n",
        "    target = np.zeros((n_targets, tsteps, 1))\n",
        "    target[0, :, 0] = amplitude * np.sin(2 * np.pi * frequency * time_points)\n",
        "\n",
        "    # 外部输入: 恒定信号，指示任务开始\n",
        "    ext = np.zeros((n_targets, tsteps, 1))\n",
        "    ext[0, :, 0] = 1.0 # 恒定输入\n",
        "\n",
        "    return ext, target\n",
        "\n",
        "def generate_reaching_task(T, dt, n_targets=8, radius=1.0, cue_duration=0.5):\n",
        "    \"\"\"\n",
        "    生成2D运动任务的目标信号 (Target) 和外部输入 (Ext).\n",
        "    目标信号为指向不同方向的平滑轨迹。\n",
        "    \"\"\"\n",
        "    tsteps = int(T / dt)\n",
        "    time_points = np.arange(0, T, dt)\n",
        "\n",
        "    target = np.zeros((n_targets, tsteps, 2))\n",
        "    ext = np.zeros((n_targets, tsteps, n_targets)) # One-hot 编码的输入\n",
        "\n",
        "    # 定义8个目标位置\n",
        "    theta = np.linspace(0, 2 * np.pi, n_targets, endpoint=False)\n",
        "    target_pos = np.stack([radius * np.cos(theta), radius * np.sin(theta)], axis=1)\n",
        "\n",
        "    # 创建平滑的轨迹\n",
        "    for i in range(n_targets):\n",
        "        # 目标位置\n",
        "        T_pos = target_pos[i]\n",
        "\n",
        "        # 轨迹插值\n",
        "        start_time = int(cue_duration / dt)\n",
        "        reach_t = time_points[start_time:] - time_points[start_time]\n",
        "        reach_fraction = np.minimum(1.0, reach_t / (T - cue_duration))\n",
        "\n",
        "        # 使用 sigmoid 函数平滑轨迹，确保速度从0开始和结束\n",
        "        smooth_factor = 1 / (1 + np.exp(-10 * (reach_fraction - 0.5)))\n",
        "        target[i, start_time:, :] = np.outer(smooth_factor, T_pos)\n",
        "\n",
        "        # 外部输入: 在任务开始时激活相应维度\n",
        "        ext[i, :start_time, i] = 1.0\n",
        "\n",
        "    return ext, target\n",
        "\n",
        "def main_experiment():\n",
        "    \"\"\"\n",
        "    主实验流程：1D训练 -> 2D评估.\n",
        "    \"\"\"\n",
        "    # --- 实验参数 ---\n",
        "    T = 2.0  # 任务总时长 (秒)\n",
        "    dt = 0.01 # 时间步长\n",
        "    ntstart = 50 # 训练开始时间步\n",
        "    trials_1d = 100 # 1D 任务训练的试验次数\n",
        "    trials_2d = 100 # 2D 任务训练的试验次数\n",
        "\n",
        "    # --- 第1阶段: 1D 力量任务训练 ---\n",
        "    print(\"--- Phase 1: 1D Force Exertion Training ---\")\n",
        "\n",
        "    # 1.1 生成1D任务数据\n",
        "    ext_1d, target_1d = generate_force_task(T, dt, n_targets=1)\n",
        "    n_out_1d = target_1d.shape[2]\n",
        "\n",
        "    # 1.2 初始化网络\n",
        "    network_1d = RNN(N_in=ext_1d.shape[2])\n",
        "\n",
        "    # 1.3 训练前的基线表现\n",
        "    time, r, z = network_1d.simulate(T, ext_1d[0])\n",
        "    decoder_1d_initial, _ = train_force_exertion_decoder(z[np.newaxis,:,:], target_1d, np.array([0]), n_output=n_out_1d)\n",
        "\n",
        "    # 1.4 训练网络\n",
        "    # 注意: 第一次训练需要一个初始的解码器和反馈矩阵\n",
        "    initial_decoder_1d = np.random.randn(n_out_1d, network_1d.N)\n",
        "    feedback_1d = get_feedback_weights(initial_decoder_1d)\n",
        "    loss_1d = network_1d.relearn(trials_1d, ext_1d, ntstart, initial_decoder_1d, feedback_1d, target_1d)\n",
        "\n",
        "    # 1.5 训练后的解码器和表现\n",
        "    time, r, z_trained_1d = network_1d.simulate(T, ext_1d[0])\n",
        "    decoder_1d_trained, mse_1d = train_force_exertion_decoder(z_trained_1d[np.newaxis,:,:], target_1d, np.array([0]), n_output=n_out_1d)\n",
        "\n",
        "    # 1.6 保存1D训练后的网络权重\n",
        "    np.savez('network_1d.npz', W=network_1d.W, W_in=network_1d.W_in)\n",
        "    print(f\"1D Training MSE: {mse_1d:.6f}\")\n",
        "\n",
        "    # --- 第2阶段: 2D 运动任务评估 (迁移测试) ---\n",
        "    print(\"\\n--- Phase 2: 2D Reaching Task Evaluation ---\")\n",
        "\n",
        "    # 2.1 生成2D任务数据\n",
        "    ext_2d, target_2d = generate_reaching_task(T, dt, n_targets=8)\n",
        "    n_out_2d = target_2d.shape[2]\n",
        "\n",
        "    # 2.2 评估基线 (从头开始训练)\n",
        "    print(\"--- Baseline: Train 2D from scratch ---\")\n",
        "    network_baseline = RNN(N_in=ext_2d.shape[2])\n",
        "    initial_decoder_2d_baseline = np.random.randn(n_out_2d, network_baseline.N)\n",
        "    feedback_2d_baseline = get_feedback_weights(initial_decoder_2d_baseline)\n",
        "    loss_2d_baseline = network_baseline.relearn(trials_2d, ext_2d, ntstart, initial_decoder_2d_baseline, feedback_2d_baseline, target_2d)\n",
        "\n",
        "    # 2.3 评估迁移 (使用1D训练的网络)\n",
        "    print(\"--- Transfer: Relearn 2D from 1D-trained network ---\")\n",
        "\n",
        "    # 加载1D训练好的网络权重\n",
        "    network_transfer = RNN(N_in=ext_2d.shape[2])\n",
        "    net_1d_data = np.load('network_1d.npz')\n",
        "    network_transfer.W = net_1d_data['W']\n",
        "\n",
        "    # 为2D任务初始化新的解码器和反馈矩阵\n",
        "    initial_decoder_2d_transfer = np.random.randn(n_out_2d, network_transfer.N)\n",
        "    feedback_2d_transfer = get_feedback_weights(initial_decoder_2d_transfer)\n",
        "\n",
        "    # 在加载的权重上继续训练\n",
        "    loss_2d_transfer = network_transfer.relearn(trials_2d, ext_2d, ntstart, initial_decoder_2d_transfer, feedback_2d_transfer, target_2d)\n",
        "\n",
        "    # --- 3. 结果分析与可视化 ---\n",
        "    plt.figure(figsize=(12, 6))\n",
        "\n",
        "    plt.subplot(1, 2, 1)\n",
        "    plt.plot(loss_2d_baseline, label='Baseline (Train from Scratch)')\n",
        "    plt.plot(loss_2d_transfer, label='Transfer (From 1D-trained network)')\n",
        "    plt.xlabel('Trials')\n",
        "    plt.ylabel('Loss')\n",
        "    plt.title('2D Reaching Task Learning Curve')\n",
        "    plt.legend()\n",
        "\n",
        "    plt.show()\n",
        "\n",
        "# 运行主实验\n",
        "if __name__ == \"__main__\":\n",
        "    main_experiment()"
      ],
      "metadata": {
        "colab": {
          "base_uri": "https://localhost:8080/",
          "height": 1000
        },
        "id": "FfBwMFcTmQMZ",
        "outputId": "bfecb8f9-d4b3-4e51-ceb7-d41bd175b94f"
      },
      "execution_count": 12,
      "outputs": [
        {
          "output_type": "stream",
          "name": "stdout",
          "text": [
            "--- Phase 1: 1D Force Exertion Training ---\n",
            "Loss in Trial 1 is 0.00617\n",
            "Loss in Trial 2 is 0.00020\n",
            "Loss in Trial 3 is 0.00004\n",
            "Loss in Trial 4 is 0.00052\n",
            "Loss in Trial 5 is 0.00078\n",
            "Loss in Trial 6 is 0.00044\n",
            "Loss in Trial 7 is 0.00014\n",
            "Loss in Trial 8 is 0.00023\n",
            "Loss in Trial 9 is 0.00072\n",
            "Loss in Trial 10 is 0.00011\n",
            "Loss in Trial 11 is 0.00019\n",
            "Loss in Trial 12 is 0.00020\n",
            "Loss in Trial 13 is 0.00027\n",
            "Loss in Trial 14 is 0.00024\n",
            "Loss in Trial 15 is 0.00014\n",
            "Loss in Trial 16 is 0.00005\n",
            "Loss in Trial 17 is 0.00055\n",
            "Loss in Trial 18 is 0.00021\n",
            "Loss in Trial 19 is 0.00024\n",
            "Loss in Trial 20 is 0.00022\n",
            "Loss in Trial 21 is 0.00021\n",
            "Loss in Trial 22 is 0.00014\n",
            "Loss in Trial 23 is 0.00037\n",
            "Loss in Trial 24 is 0.00053\n",
            "Loss in Trial 25 is 0.00026\n",
            "Loss in Trial 26 is 0.00013\n",
            "Loss in Trial 27 is 0.00010\n",
            "Loss in Trial 28 is 0.00021\n",
            "Loss in Trial 29 is 0.00042\n",
            "Loss in Trial 30 is 0.00018\n",
            "Loss in Trial 31 is 0.00019\n",
            "Loss in Trial 32 is 0.00008\n",
            "Loss in Trial 33 is 0.00018\n",
            "Loss in Trial 34 is 0.00069\n",
            "Loss in Trial 35 is 0.00031\n",
            "Loss in Trial 36 is 0.00027\n",
            "Loss in Trial 37 is 0.00099\n",
            "Loss in Trial 38 is 0.00011\n",
            "Loss in Trial 39 is 0.00036\n",
            "Loss in Trial 40 is 0.00027\n",
            "Loss in Trial 41 is 0.00024\n",
            "Loss in Trial 42 is 0.00023\n",
            "Loss in Trial 43 is 0.00029\n",
            "Loss in Trial 44 is 0.00011\n",
            "Loss in Trial 45 is 0.00007\n",
            "Loss in Trial 46 is 0.00014\n",
            "Loss in Trial 47 is 0.00061\n",
            "Loss in Trial 48 is 0.00008\n",
            "Loss in Trial 49 is 0.00009\n",
            "Loss in Trial 50 is 0.00013\n",
            "Loss in Trial 51 is 0.00021\n",
            "Loss in Trial 52 is 0.00037\n",
            "Loss in Trial 53 is 0.00037\n",
            "Loss in Trial 54 is 0.00011\n",
            "Loss in Trial 55 is 0.00007\n",
            "Loss in Trial 56 is 0.00002\n",
            "Loss in Trial 57 is 0.00037\n",
            "Loss in Trial 58 is 0.00022\n",
            "Loss in Trial 59 is 0.00028\n",
            "Loss in Trial 60 is 0.00009\n",
            "Loss in Trial 61 is 0.00012\n",
            "Loss in Trial 62 is 0.00020\n",
            "Loss in Trial 63 is 0.00072\n",
            "Loss in Trial 64 is 0.00007\n",
            "Loss in Trial 65 is 0.00009\n",
            "Loss in Trial 66 is 0.00006\n",
            "Loss in Trial 67 is 0.00045\n",
            "Loss in Trial 68 is 0.00006\n",
            "Loss in Trial 69 is 0.00017\n",
            "Loss in Trial 70 is 0.00025\n",
            "Loss in Trial 71 is 0.00029\n",
            "Loss in Trial 72 is 0.00020\n",
            "Loss in Trial 73 is 0.00017\n",
            "Loss in Trial 74 is 0.00017\n",
            "Loss in Trial 75 is 0.00016\n",
            "Loss in Trial 76 is 0.00012\n",
            "Loss in Trial 77 is 0.00022\n",
            "Loss in Trial 78 is 0.00004\n",
            "Loss in Trial 79 is 0.00022\n",
            "Loss in Trial 80 is 0.00013\n",
            "Loss in Trial 81 is 0.00017\n",
            "Loss in Trial 82 is 0.00043\n",
            "Loss in Trial 83 is 0.00017\n",
            "Loss in Trial 84 is 0.00079\n",
            "Loss in Trial 85 is 0.00004\n",
            "Loss in Trial 86 is 0.00021\n",
            "Loss in Trial 87 is 0.00009\n",
            "Loss in Trial 88 is 0.00067\n",
            "Loss in Trial 89 is 0.00018\n",
            "Loss in Trial 90 is 0.00004\n",
            "Loss in Trial 91 is 0.00009\n",
            "Loss in Trial 92 is 0.00008\n",
            "Loss in Trial 93 is 0.00009\n",
            "Loss in Trial 94 is 0.00001\n",
            "Loss in Trial 95 is 0.00009\n",
            "Loss in Trial 96 is 0.00013\n",
            "Loss in Trial 97 is 0.00020\n",
            "Loss in Trial 98 is 0.00025\n",
            "Loss in Trial 99 is 0.00013\n",
            "Loss in Trial 100 is 0.00004\n",
            "1D Training MSE: 0.000000\n",
            "\n",
            "--- Phase 2: 2D Reaching Task Evaluation ---\n",
            "--- Baseline: Train 2D from scratch ---\n",
            "Loss in Trial 1 is 0.03345\n",
            "Loss in Trial 2 is 0.01543\n",
            "Loss in Trial 3 is 0.01838\n",
            "Loss in Trial 4 is 0.01514\n",
            "Loss in Trial 5 is 0.01046\n",
            "Loss in Trial 6 is 0.02113\n",
            "Loss in Trial 7 is 0.01210\n",
            "Loss in Trial 8 is 0.01034\n",
            "Loss in Trial 9 is 0.00991\n",
            "Loss in Trial 10 is 0.01575\n",
            "Loss in Trial 11 is 0.00890\n",
            "Loss in Trial 12 is 0.00646\n",
            "Loss in Trial 13 is 0.00426\n",
            "Loss in Trial 14 is 0.00555\n",
            "Loss in Trial 15 is 0.00661\n",
            "Loss in Trial 16 is 0.00492\n",
            "Loss in Trial 17 is 0.01204\n",
            "Loss in Trial 18 is 0.00413\n",
            "Loss in Trial 19 is 0.00714\n",
            "Loss in Trial 20 is 0.00567\n",
            "Loss in Trial 21 is 0.00712\n",
            "Loss in Trial 22 is 0.00518\n",
            "Loss in Trial 23 is 0.00483\n",
            "Loss in Trial 24 is 0.00437\n",
            "Loss in Trial 25 is 0.00401\n",
            "Loss in Trial 26 is 0.01335\n",
            "Loss in Trial 27 is 0.00403\n",
            "Loss in Trial 28 is 0.01046\n",
            "Loss in Trial 29 is 0.00636\n",
            "Loss in Trial 30 is 0.00693\n",
            "Loss in Trial 31 is 0.00430\n",
            "Loss in Trial 32 is 0.00541\n",
            "Loss in Trial 33 is 0.00844\n",
            "Loss in Trial 34 is 0.00870\n",
            "Loss in Trial 35 is 0.00507\n",
            "Loss in Trial 36 is 0.00673\n",
            "Loss in Trial 37 is 0.00394\n",
            "Loss in Trial 38 is 0.00944\n",
            "Loss in Trial 39 is 0.00408\n",
            "Loss in Trial 40 is 0.00749\n",
            "Loss in Trial 41 is 0.01115\n",
            "Loss in Trial 42 is 0.00442\n",
            "Loss in Trial 43 is 0.00591\n",
            "Loss in Trial 44 is 0.00439\n",
            "Loss in Trial 45 is 0.00610\n",
            "Loss in Trial 46 is 0.00483\n",
            "Loss in Trial 47 is 0.00459\n",
            "Loss in Trial 48 is 0.00740\n",
            "Loss in Trial 49 is 0.00417\n",
            "Loss in Trial 50 is 0.00421\n",
            "Loss in Trial 51 is 0.00433\n",
            "Loss in Trial 52 is 0.00578\n",
            "Loss in Trial 53 is 0.00279\n",
            "Loss in Trial 54 is 0.00265\n",
            "Loss in Trial 55 is 0.00389\n",
            "Loss in Trial 56 is 0.00370\n",
            "Loss in Trial 57 is 0.00906\n",
            "Loss in Trial 58 is 0.00607\n",
            "Loss in Trial 59 is 0.00384\n",
            "Loss in Trial 60 is 0.00359\n",
            "Loss in Trial 61 is 0.00517\n",
            "Loss in Trial 62 is 0.00369\n",
            "Loss in Trial 63 is 0.00293\n",
            "Loss in Trial 64 is 0.00583\n",
            "Loss in Trial 65 is 0.00792\n",
            "Loss in Trial 66 is 0.00677\n",
            "Loss in Trial 67 is 0.00540\n",
            "Loss in Trial 68 is 0.00422\n",
            "Loss in Trial 69 is 0.00635\n",
            "Loss in Trial 70 is 0.00344\n",
            "Loss in Trial 71 is 0.00200\n",
            "Loss in Trial 72 is 0.00351\n",
            "Loss in Trial 73 is 0.00312\n",
            "Loss in Trial 74 is 0.00917\n",
            "Loss in Trial 75 is 0.00517\n",
            "Loss in Trial 76 is 0.00485\n",
            "Loss in Trial 77 is 0.00352\n",
            "Loss in Trial 78 is 0.00479\n",
            "Loss in Trial 79 is 0.00505\n",
            "Loss in Trial 80 is 0.00429\n",
            "Loss in Trial 81 is 0.00421\n",
            "Loss in Trial 82 is 0.00582\n",
            "Loss in Trial 83 is 0.01275\n",
            "Loss in Trial 84 is 0.00497\n",
            "Loss in Trial 85 is 0.00610\n",
            "Loss in Trial 86 is 0.00993\n",
            "Loss in Trial 87 is 0.00453\n",
            "Loss in Trial 88 is 0.00516\n",
            "Loss in Trial 89 is 0.00340\n",
            "Loss in Trial 90 is 0.00543\n",
            "Loss in Trial 91 is 0.00690\n",
            "Loss in Trial 92 is 0.00360\n",
            "Loss in Trial 93 is 0.00545\n",
            "Loss in Trial 94 is 0.00368\n",
            "Loss in Trial 95 is 0.00692\n",
            "Loss in Trial 96 is 0.00582\n",
            "Loss in Trial 97 is 0.00465\n",
            "Loss in Trial 98 is 0.01042\n",
            "Loss in Trial 99 is 0.00405\n",
            "Loss in Trial 100 is 0.00201\n",
            "--- Transfer: Relearn 2D from 1D-trained network ---\n",
            "Loss in Trial 1 is 0.00667\n",
            "Loss in Trial 2 is 0.00168\n",
            "Loss in Trial 3 is 0.00346\n",
            "Loss in Trial 4 is 0.01864\n",
            "Loss in Trial 5 is 0.01009\n",
            "Loss in Trial 6 is 0.00575\n",
            "Loss in Trial 7 is 0.00467\n",
            "Loss in Trial 8 is 0.00581\n",
            "Loss in Trial 9 is 0.00895\n",
            "Loss in Trial 10 is 0.01448\n",
            "Loss in Trial 11 is 0.00414\n",
            "Loss in Trial 12 is 0.00349\n",
            "Loss in Trial 13 is 0.00397\n",
            "Loss in Trial 14 is 0.00608\n",
            "Loss in Trial 15 is 0.00677\n",
            "Loss in Trial 16 is 0.00608\n",
            "Loss in Trial 17 is 0.00564\n",
            "Loss in Trial 18 is 0.01364\n",
            "Loss in Trial 19 is 0.00451\n",
            "Loss in Trial 20 is 0.00380\n",
            "Loss in Trial 21 is 0.00403\n",
            "Loss in Trial 22 is 0.00416\n",
            "Loss in Trial 23 is 0.00240\n",
            "Loss in Trial 24 is 0.00442\n",
            "Loss in Trial 25 is 0.00300\n",
            "Loss in Trial 26 is 0.00353\n",
            "Loss in Trial 27 is 0.00321\n",
            "Loss in Trial 28 is 0.00441\n",
            "Loss in Trial 29 is 0.00563\n",
            "Loss in Trial 30 is 0.00267\n",
            "Loss in Trial 31 is 0.00754\n",
            "Loss in Trial 32 is 0.00245\n",
            "Loss in Trial 33 is 0.00639\n",
            "Loss in Trial 34 is 0.00355\n",
            "Loss in Trial 35 is 0.00579\n",
            "Loss in Trial 36 is 0.00555\n",
            "Loss in Trial 37 is 0.00436\n",
            "Loss in Trial 38 is 0.00274\n",
            "Loss in Trial 39 is 0.00233\n",
            "Loss in Trial 40 is 0.00709\n",
            "Loss in Trial 41 is 0.00287\n",
            "Loss in Trial 42 is 0.00562\n",
            "Loss in Trial 43 is 0.00216\n",
            "Loss in Trial 44 is 0.00712\n",
            "Loss in Trial 45 is 0.00442\n",
            "Loss in Trial 46 is 0.00311\n",
            "Loss in Trial 47 is 0.00427\n",
            "Loss in Trial 48 is 0.00367\n",
            "Loss in Trial 49 is 0.00381\n",
            "Loss in Trial 50 is 0.00370\n",
            "Loss in Trial 51 is 0.00489\n",
            "Loss in Trial 52 is 0.00238\n",
            "Loss in Trial 53 is 0.00098\n",
            "Loss in Trial 54 is 0.00290\n",
            "Loss in Trial 55 is 0.00430\n",
            "Loss in Trial 56 is 0.00333\n",
            "Loss in Trial 57 is 0.00150\n",
            "Loss in Trial 58 is 0.00327\n",
            "Loss in Trial 59 is 0.00434\n",
            "Loss in Trial 60 is 0.00334\n",
            "Loss in Trial 61 is 0.00177\n",
            "Loss in Trial 62 is 0.00125\n",
            "Loss in Trial 63 is 0.00324\n",
            "Loss in Trial 64 is 0.00311\n",
            "Loss in Trial 65 is 0.00238\n",
            "Loss in Trial 66 is 0.00326\n",
            "Loss in Trial 67 is 0.00332\n",
            "Loss in Trial 68 is 0.00099\n",
            "Loss in Trial 69 is 0.00154\n",
            "Loss in Trial 70 is 0.00582\n",
            "Loss in Trial 71 is 0.00532\n",
            "Loss in Trial 72 is 0.00310\n",
            "Loss in Trial 73 is 0.00252\n",
            "Loss in Trial 74 is 0.00112\n",
            "Loss in Trial 75 is 0.00200\n",
            "Loss in Trial 76 is 0.00714\n",
            "Loss in Trial 77 is 0.00181\n",
            "Loss in Trial 78 is 0.00390\n",
            "Loss in Trial 79 is 0.00279\n",
            "Loss in Trial 80 is 0.00325\n",
            "Loss in Trial 81 is 0.00444\n",
            "Loss in Trial 82 is 0.00218\n",
            "Loss in Trial 83 is 0.00346\n",
            "Loss in Trial 84 is 0.00388\n",
            "Loss in Trial 85 is 0.00233\n",
            "Loss in Trial 86 is 0.00205\n",
            "Loss in Trial 87 is 0.00142\n",
            "Loss in Trial 88 is 0.00500\n",
            "Loss in Trial 89 is 0.00465\n",
            "Loss in Trial 90 is 0.00242\n",
            "Loss in Trial 91 is 0.00241\n",
            "Loss in Trial 92 is 0.00371\n",
            "Loss in Trial 93 is 0.00232\n",
            "Loss in Trial 94 is 0.00204\n",
            "Loss in Trial 95 is 0.00336\n",
            "Loss in Trial 96 is 0.00357\n",
            "Loss in Trial 97 is 0.00345\n",
            "Loss in Trial 98 is 0.00396\n",
            "Loss in Trial 99 is 0.00470\n",
            "Loss in Trial 100 is 0.00261\n"
          ]
        },
        {
          "output_type": "display_data",
          "data": {
            "text/plain": [
              "<Figure size 1200x600 with 1 Axes>"
            ],
            "image/png": "[encoded data removed]"
          },
          "metadata": {}
        }
      ]
    }
  ],
  "metadata": {
    "colab": {
      "collapsed_sections": [
        "B2bph5cR7aj5"
      ],
      "name": "motor_RNNs",
      "provenance": [],
      "toc_visible": true,
      "include_colab_link": true
    },
    "kernel": {
      "display_name": "Python 3",
      "language": "python",
      "name": "python3"
    },
    "kernelspec": {
      "display_name": "Python 3",
      "name": "python3"
    },
    "language_info": {
      "codemirror_mode": {
        "name": "ipython",
        "version": 3
      },
      "file_extension": ".py",
      "mimetype": "text/x-python",
      "name": "python",
      "nbconvert_exporter": "python",
      "pygments_lexer": "ipython3",
      "version": "3.9.17"
    }
  },
  "nbformat": 4,
  "nbformat_minor": 0
}